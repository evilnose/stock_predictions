{
 "cells": [
  {
   "cell_type": "code",
   "execution_count": 1,
   "metadata": {},
   "outputs": [
    {
     "name": "stderr",
     "output_type": "stream",
     "text": [
      "Using TensorFlow backend.\n",
      "C:\\Users\\garyg\\Anaconda3\\envs\\rnn\\lib\\site-packages\\gensim\\utils.py:1197: UserWarning: detected Windows; aliasing chunkize to chunkize_serial\n",
      "  warnings.warn(\"detected Windows; aliasing chunkize to chunkize_serial\")\n"
     ]
    }
   ],
   "source": [
    "import os\n",
    "import sys\n",
    "\n",
    "import matplotlib.pyplot as plt\n",
    "\n",
    "from keras import Model, Sequential\n",
    "import numpy as np\n",
    "from keras.layers import LSTM, Lambda, Reshape, Concatenate\n",
    "from keras.layers import Dropout\n",
    "from keras.layers import Dense\n",
    "from keras.layers import Input\n",
    "\n",
    "# For importing python scripts\n",
    "module_path = os.path.abspath(os.path.join('..'))\n",
    "if module_path not in sys.path:\n",
    "    sys.path.append(module_path)\n",
    "\n",
    "from model.prep_and_train import preprocessing, split_train_test_val\n",
    "from definitions import root"
   ]
  },
  {
   "cell_type": "code",
   "execution_count": 2,
   "metadata": {},
   "outputs": [
    {
     "name": "stdout",
     "output_type": "stream",
     "text": [
      "Loading word2vec model...\n",
      "Done.\n"
     ]
    }
   ],
   "source": [
    "price_x, price_y, headline = preprocessing(n_days_forward=7)\n",
    "train, test, val = split_train_test_val(price_y)"
   ]
  },
  {
   "cell_type": "code",
   "execution_count": 3,
   "metadata": {},
   "outputs": [
    {
     "name": "stdout",
     "output_type": "stream",
     "text": [
      "Train mean: 53.92806465155331\n",
      "Test mean: 54.02564152791381\n",
      "Validation mean: 53.59769682726204\n"
     ]
    }
   ],
   "source": [
    "# Make sure data is stratified well\n",
    "print(\"Train mean:\", np.mean(price_y[train]))\n",
    "print(\"Test mean:\", np.mean(price_y[test]))\n",
    "print(\"Validation mean:\", np.mean(price_y[val]))"
   ]
  },
  {
   "cell_type": "code",
   "execution_count": 4,
   "metadata": {},
   "outputs": [],
   "source": [
    "# Hyperparameters\n",
    "HIDDEN_SIZE_HEADLINE = 50  # Size of LSTM hidden layer for headline condenser\n",
    "HIDDEN_SIZE_MAIN = 10  # Size of LSTM hidden layer for main\n",
    "N_CONDENSED_OUT = 3  # Output feature dimensions for the condenser\n",
    "N_NUM = 1  # Input feature dimensions of the numerical data (only price for now)\n",
    "WINDOW_TIME_STEPS = 5  # Number of time steps for each training example\n",
    "HEADLINE_SEQ_LEN = 9  # Length dim of each headline (e.g. number of words)\n",
    "N_BATCH = 100  # Training batch size\n",
    "N_EPOCHS = 15\n",
    "VAL_SPLIT = 0.33\n",
    "\n",
    "EMB_SIZE = 300  # Feature size for each embedding. This cannot be modified\n",
    "\n",
    "\n",
    "# File paths\n",
    "MODEL_ARCH_PATH = 'model_architecture.json'\n",
    "MODEL_TRAINED_PATH = 'model_trained.h5'"
   ]
  },
  {
   "cell_type": "code",
   "execution_count": 5,
   "metadata": {},
   "outputs": [],
   "source": [
    "headline_condenser_g = None\n",
    "\n",
    "\n",
    "def make_condenser(in_shape, dropout_level=0.3):\n",
    "    # TODO maybe more outputs?\n",
    "    condenser = Sequential()\n",
    "    condenser.add(LSTM(HIDDEN_SIZE_HEADLINE, input_shape=in_shape, activation='relu', name=\"headline_lstm\",\n",
    "                       dropout=dropout_level))\n",
    "    condenser.add(Dense(N_CONDENSED_OUT))\n",
    "    condenser.add(Reshape(target_shape=(1, N_CONDENSED_OUT)))\n",
    "    # condenser.add(Activation('softmax', name=\"headline_activation\"))\n",
    "    return condenser\n",
    "\n",
    "\n",
    "def apply_each(inputs):\n",
    "    global headline_condenser_g\n",
    "    outs = list()\n",
    "    # Split by the time step dimension\n",
    "    for i in range(inputs.shape[1]):\n",
    "        outs.append(headline_condenser_g(inputs[:, i, :, :]))\n",
    "\n",
    "    return Concatenate(axis=1)(outs)"
   ]
  },
  {
   "cell_type": "code",
   "execution_count": 6,
   "metadata": {},
   "outputs": [],
   "source": [
    "def get_overall_model(headline_len, main_dropout_level=0.4):\n",
    "    global headline_condenser_g\n",
    "    headline_in = Input(shape=(WINDOW_TIME_STEPS, headline_len, EMB_SIZE), name=\"headline_in\")\n",
    "    # Condenser treats each time step of input as separate examples\n",
    "    headline_condenser_g = make_condenser(in_shape=(headline_len, EMB_SIZE))\n",
    "\n",
    "    # Apply condenser to each time step of headlines\n",
    "    headline_out = Lambda(apply_each, name=\"condense_each_headline\")(headline_in)\n",
    "    # headline_out = TimeDistributed(headline_condenser)(headline_in)\n",
    "    price_in = Input(shape=(WINDOW_TIME_STEPS, N_NUM), name=\"price_in\")\n",
    "\n",
    "    # TODO more layers can possibly be added\n",
    "    x = Concatenate()([headline_out, price_in])  # of shape (WINDOW_SIZE, N_CONCATENATED + N_NUM)\n",
    "    x = LSTM(units=HIDDEN_SIZE_MAIN, activation=\"relu\", name=\"main_lstm\")(x)  # TODO maybe another LSTM before this?\n",
    "    x = Dropout(main_dropout_level, name=\"main_dropout\")(x)\n",
    "    outputs = Dense(1, name=\"main_dense\")(x)\n",
    "\n",
    "    model = Model(inputs=[headline_in, price_in], outputs=outputs, name=\"apple_model\")\n",
    "    return model"
   ]
  },
  {
   "cell_type": "code",
   "execution_count": 7,
   "metadata": {},
   "outputs": [
    {
     "name": "stdout",
     "output_type": "stream",
     "text": [
      "Train on 1595 samples, validate on 787 samples\n",
      "Epoch 1/15\n",
      "1595/1595 [==============================] - 6s 4ms/step - loss: 5001.5227 - mean_absolute_percentage_error: 90.0902 - cosine_proximity: -0.6997 - val_loss: 4853.1968 - val_mean_absolute_percentage_error: 80.7011 - val_cosine_proximity: -1.0000\n",
      "Epoch 2/15\n",
      "1595/1595 [==============================] - 1s 758us/step - loss: 2864.1364 - mean_absolute_percentage_error: 58.9018 - cosine_proximity: -0.9373 - val_loss: 845.2003 - val_mean_absolute_percentage_error: 30.5015 - val_cosine_proximity: -1.0000\n",
      "Epoch 3/15\n",
      "1595/1595 [==============================] - 1s 771us/step - loss: 1620.7444 - mean_absolute_percentage_error: 43.8973 - cosine_proximity: -0.9674 - val_loss: 428.9990 - val_mean_absolute_percentage_error: 23.3024 - val_cosine_proximity: -1.0000\n",
      "Epoch 4/15\n",
      "1595/1595 [==============================] - 1s 853us/step - loss: 1352.8909 - mean_absolute_percentage_error: 42.4604 - cosine_proximity: -0.9912 - val_loss: 333.5413 - val_mean_absolute_percentage_error: 26.6019 - val_cosine_proximity: -1.0000\n",
      "Epoch 5/15\n",
      "1595/1595 [==============================] - 1s 633us/step - loss: 1306.6216 - mean_absolute_percentage_error: 42.9638 - cosine_proximity: -1.0000 - val_loss: 372.5585 - val_mean_absolute_percentage_error: 26.9013 - val_cosine_proximity: -1.0000\n",
      "Epoch 6/15\n",
      "1595/1595 [==============================] - 1s 548us/step - loss: 1397.7855 - mean_absolute_percentage_error: 41.9370 - cosine_proximity: -1.0000 - val_loss: 334.9285 - val_mean_absolute_percentage_error: 25.5359 - val_cosine_proximity: -1.0000\n",
      "Epoch 7/15\n",
      "1595/1595 [==============================] - 1s 541us/step - loss: 1307.4775 - mean_absolute_percentage_error: 41.2610 - cosine_proximity: -1.0000 - val_loss: 377.1504 - val_mean_absolute_percentage_error: 25.4233 - val_cosine_proximity: -1.0000\n",
      "Epoch 8/15\n",
      "1595/1595 [==============================] - 1s 540us/step - loss: 1338.5915 - mean_absolute_percentage_error: 41.9579 - cosine_proximity: -1.0000 - val_loss: 362.6550 - val_mean_absolute_percentage_error: 25.0321 - val_cosine_proximity: -1.0000\n",
      "Epoch 9/15\n",
      "1595/1595 [==============================] - 1s 533us/step - loss: 1264.5538 - mean_absolute_percentage_error: 41.5620 - cosine_proximity: -1.0000 - val_loss: 364.0086 - val_mean_absolute_percentage_error: 25.0454 - val_cosine_proximity: -1.0000\n",
      "Epoch 10/15\n",
      "1595/1595 [==============================] - 1s 545us/step - loss: 1509.8188 - mean_absolute_percentage_error: 40.7588 - cosine_proximity: -1.0000 - val_loss: 314.7647 - val_mean_absolute_percentage_error: 20.2240 - val_cosine_proximity: -1.0000\n",
      "Epoch 11/15\n",
      "1595/1595 [==============================] - 1s 533us/step - loss: 1423.1036 - mean_absolute_percentage_error: 42.0766 - cosine_proximity: -1.0000 - val_loss: 332.4611 - val_mean_absolute_percentage_error: 22.8036 - val_cosine_proximity: -1.0000\n",
      "Epoch 12/15\n",
      "1595/1595 [==============================] - 1s 531us/step - loss: 1359.4508 - mean_absolute_percentage_error: 41.4078 - cosine_proximity: -1.0000 - val_loss: 380.6806 - val_mean_absolute_percentage_error: 24.8493 - val_cosine_proximity: -1.0000\n",
      "Epoch 13/15\n",
      "1595/1595 [==============================] - 1s 533us/step - loss: 1437.1942 - mean_absolute_percentage_error: 41.5495 - cosine_proximity: -1.0000 - val_loss: 334.9202 - val_mean_absolute_percentage_error: 23.6589 - val_cosine_proximity: -1.0000\n",
      "Epoch 14/15\n",
      "1595/1595 [==============================] - 1s 531us/step - loss: 1316.8745 - mean_absolute_percentage_error: 40.8365 - cosine_proximity: -1.0000 - val_loss: 364.2854 - val_mean_absolute_percentage_error: 25.2030 - val_cosine_proximity: -1.0000\n",
      "Epoch 15/15\n",
      "1595/1595 [==============================] - 1s 532us/step - loss: 1390.4882 - mean_absolute_percentage_error: 41.1474 - cosine_proximity: -1.0000 - val_loss: 397.2656 - val_mean_absolute_percentage_error: 25.1601 - val_cosine_proximity: -1.0000\n"
     ]
    }
   ],
   "source": [
    "headline_model = get_overall_model(HEADLINE_SEQ_LEN)\n",
    "headline_model.compile(loss='mean_squared_error', optimizer='adam', metrics=['mape', 'cosine'])\n",
    "history = headline_model.fit(x=[headline[train], price_x[train]], y=price_y[train], epochs=N_EPOCHS,\n",
    "                    validation_split=VAL_SPLIT)"
   ]
  },
  {
   "cell_type": "code",
   "execution_count": 8,
   "metadata": {},
   "outputs": [
    {
     "data": {
      "image/png": "[encoded data removed]",
      "text/plain": [
       "<Figure size 432x288 with 1 Axes>"
      ]
     },
     "metadata": {},
     "output_type": "display_data"
    }
   ],
   "source": [
    "%matplotlib inline\n",
    "train_to_val = 7 / 3\n",
    "plt.plot(history.history['loss'])\n",
    "plt.plot(np.asarray(history.history['val_loss']) * train_to_val)\n",
    "plt.title('model loss')\n",
    "plt.ylabel('loss')\n",
    "plt.xlabel('epoch')\n",
    "plt.legend(['train', 'val'], loc='upper right')\n",
    "plt.show()"
   ]
  },
  {
   "cell_type": "markdown",
   "metadata": {},
   "source": [
    "Now we train models with the same architecture over multiple datasets, each differing only in n_days_forward, i.e. how far in the future the price_y value is compared to the last x value in each example. As an example, n_days_forward = 1 implies that the prediction date is the next day of the last input value date."
   ]
  },
  {
   "cell_type": "code",
   "execution_count": 9,
   "metadata": {},
   "outputs": [
    {
     "name": "stdout",
     "output_type": "stream",
     "text": [
      "Loading word2vec model...\n"
     ]
    },
    {
     "ename": "KeyboardInterrupt",
     "evalue": "",
     "output_type": "error",
     "traceback": [
      "\u001b[1;31m---------------------------------------------------------------------------\u001b[0m",
      "\u001b[1;31mKeyboardInterrupt\u001b[0m                         Traceback (most recent call last)",
      "\u001b[1;32m<ipython-input-9-7ad15aa20774>\u001b[0m in \u001b[0;36m<module>\u001b[1;34m()\u001b[0m\n\u001b[0;32m      5\u001b[0m \u001b[0mall_hist\u001b[0m \u001b[1;33m=\u001b[0m \u001b[0mdict\u001b[0m\u001b[1;33m(\u001b[0m\u001b[1;33m)\u001b[0m\u001b[1;33m\u001b[0m\u001b[0m\n\u001b[0;32m      6\u001b[0m \u001b[1;32mfor\u001b[0m \u001b[0mn_days\u001b[0m \u001b[1;32min\u001b[0m \u001b[0mrange\u001b[0m\u001b[1;33m(\u001b[0m\u001b[0mMIN_DAYS\u001b[0m\u001b[1;33m,\u001b[0m \u001b[0mMAX_DAYS\u001b[0m \u001b[1;33m+\u001b[0m \u001b[1;36m1\u001b[0m\u001b[1;33m)\u001b[0m\u001b[1;33m:\u001b[0m\u001b[1;33m\u001b[0m\u001b[0m\n\u001b[1;32m----> 7\u001b[1;33m     \u001b[0mprice_x\u001b[0m\u001b[1;33m,\u001b[0m \u001b[0mprice_y\u001b[0m\u001b[1;33m,\u001b[0m \u001b[0mheadline\u001b[0m \u001b[1;33m=\u001b[0m \u001b[0mpreprocessing\u001b[0m\u001b[1;33m(\u001b[0m\u001b[0mn_days_forward\u001b[0m\u001b[1;33m=\u001b[0m\u001b[0mn_days\u001b[0m\u001b[1;33m,\u001b[0m \u001b[0mwindow\u001b[0m\u001b[1;33m=\u001b[0m\u001b[1;36m5\u001b[0m\u001b[1;33m)\u001b[0m\u001b[1;33m\u001b[0m\u001b[0m\n\u001b[0m\u001b[0;32m      8\u001b[0m     \u001b[0mtrain\u001b[0m\u001b[1;33m,\u001b[0m \u001b[0mtest\u001b[0m\u001b[1;33m,\u001b[0m \u001b[0mval\u001b[0m \u001b[1;33m=\u001b[0m \u001b[0msplit_train_test_val\u001b[0m\u001b[1;33m(\u001b[0m\u001b[0mprice_y\u001b[0m\u001b[1;33m)\u001b[0m\u001b[1;33m\u001b[0m\u001b[0m\n\u001b[0;32m      9\u001b[0m     \u001b[0mmodel\u001b[0m \u001b[1;33m=\u001b[0m \u001b[0mget_overall_model\u001b[0m\u001b[1;33m(\u001b[0m\u001b[0mHEADLINE_SEQ_LEN\u001b[0m\u001b[1;33m)\u001b[0m\u001b[1;33m\u001b[0m\u001b[0m\n",
      "\u001b[1;32m~\\Work\\stock_pred\\model\\prep_and_train.py\u001b[0m in \u001b[0;36mpreprocessing\u001b[1;34m(headline_file, price_file, window, n_days_forward)\u001b[0m\n\u001b[0;32m     39\u001b[0m \u001b[1;33m\u001b[0m\u001b[0m\n\u001b[0;32m     40\u001b[0m     \u001b[1;31m# Preprocess data\u001b[0m\u001b[1;33m\u001b[0m\u001b[1;33m\u001b[0m\u001b[0m\n\u001b[1;32m---> 41\u001b[1;33m     \u001b[0mwv\u001b[0m \u001b[1;33m=\u001b[0m \u001b[0mWord2Vec\u001b[0m\u001b[1;33m(\u001b[0m\u001b[1;33m)\u001b[0m\u001b[1;33m\u001b[0m\u001b[0m\n\u001b[0m\u001b[0;32m     42\u001b[0m     \u001b[0msentiments\u001b[0m\u001b[1;33m[\u001b[0m\u001b[1;34m'headline'\u001b[0m\u001b[1;33m]\u001b[0m \u001b[1;33m=\u001b[0m \u001b[0msentiments\u001b[0m\u001b[1;33m[\u001b[0m\u001b[1;34m'headline'\u001b[0m\u001b[1;33m]\u001b[0m\u001b[1;33m.\u001b[0m\u001b[0mapply\u001b[0m\u001b[1;33m(\u001b[0m\u001b[0mwv\u001b[0m\u001b[1;33m.\u001b[0m\u001b[0msentence_to_embedding\u001b[0m\u001b[1;33m)\u001b[0m\u001b[1;33m\u001b[0m\u001b[0m\n\u001b[0;32m     43\u001b[0m     \u001b[0msentiments\u001b[0m\u001b[1;33m[\u001b[0m\u001b[1;34m'headline'\u001b[0m\u001b[1;33m]\u001b[0m\u001b[1;33m,\u001b[0m \u001b[0mtime_steps\u001b[0m \u001b[1;33m=\u001b[0m \u001b[0mzero_pad\u001b[0m\u001b[1;33m(\u001b[0m\u001b[0msentiments\u001b[0m\u001b[1;33m[\u001b[0m\u001b[1;34m'headline'\u001b[0m\u001b[1;33m]\u001b[0m\u001b[1;33m)\u001b[0m\u001b[1;33m\u001b[0m\u001b[0m\n",
      "\u001b[1;32m~\\Work\\stock_pred\\nlp\\stocksnlp.py\u001b[0m in \u001b[0;36m__init__\u001b[1;34m(self, limit)\u001b[0m\n\u001b[0;32m     31\u001b[0m     \u001b[1;32mdef\u001b[0m \u001b[0m__init__\u001b[0m\u001b[1;33m(\u001b[0m\u001b[0mself\u001b[0m\u001b[1;33m,\u001b[0m \u001b[0mlimit\u001b[0m\u001b[1;33m=\u001b[0m\u001b[1;36m500000\u001b[0m\u001b[1;33m)\u001b[0m\u001b[1;33m:\u001b[0m\u001b[1;33m\u001b[0m\u001b[0m\n\u001b[0;32m     32\u001b[0m         \u001b[0mprint\u001b[0m\u001b[1;33m(\u001b[0m\u001b[1;34m\"Loading word2vec model...\"\u001b[0m\u001b[1;33m)\u001b[0m\u001b[1;33m\u001b[0m\u001b[0m\n\u001b[1;32m---> 33\u001b[1;33m         \u001b[0mself\u001b[0m\u001b[1;33m.\u001b[0m\u001b[0mmodel\u001b[0m \u001b[1;33m=\u001b[0m \u001b[0mKeyedVectors\u001b[0m\u001b[1;33m.\u001b[0m\u001b[0mload_word2vec_format\u001b[0m\u001b[1;33m(\u001b[0m\u001b[0mWORD2VEC_PATH\u001b[0m\u001b[1;33m,\u001b[0m \u001b[0mbinary\u001b[0m\u001b[1;33m=\u001b[0m\u001b[1;32mTrue\u001b[0m\u001b[1;33m,\u001b[0m \u001b[0mlimit\u001b[0m\u001b[1;33m=\u001b[0m\u001b[0mlimit\u001b[0m\u001b[1;33m)\u001b[0m\u001b[1;33m\u001b[0m\u001b[0m\n\u001b[0m\u001b[0;32m     34\u001b[0m         \u001b[0mprint\u001b[0m\u001b[1;33m(\u001b[0m\u001b[1;34m\"Done.\"\u001b[0m\u001b[1;33m)\u001b[0m\u001b[1;33m\u001b[0m\u001b[0m\n\u001b[0;32m     35\u001b[0m \u001b[1;33m\u001b[0m\u001b[0m\n",
      "\u001b[1;32m~\\Anaconda3\\envs\\rnn\\lib\\site-packages\\gensim\\models\\keyedvectors.py\u001b[0m in \u001b[0;36mload_word2vec_format\u001b[1;34m(cls, fname, fvocab, binary, encoding, unicode_errors, limit, datatype)\u001b[0m\n\u001b[0;32m   1117\u001b[0m         return _load_word2vec_format(\n\u001b[0;32m   1118\u001b[0m             \u001b[0mWord2VecKeyedVectors\u001b[0m\u001b[1;33m,\u001b[0m \u001b[0mfname\u001b[0m\u001b[1;33m,\u001b[0m \u001b[0mfvocab\u001b[0m\u001b[1;33m=\u001b[0m\u001b[0mfvocab\u001b[0m\u001b[1;33m,\u001b[0m \u001b[0mbinary\u001b[0m\u001b[1;33m=\u001b[0m\u001b[0mbinary\u001b[0m\u001b[1;33m,\u001b[0m \u001b[0mencoding\u001b[0m\u001b[1;33m=\u001b[0m\u001b[0mencoding\u001b[0m\u001b[1;33m,\u001b[0m \u001b[0municode_errors\u001b[0m\u001b[1;33m=\u001b[0m\u001b[0municode_errors\u001b[0m\u001b[1;33m,\u001b[0m\u001b[1;33m\u001b[0m\u001b[0m\n\u001b[1;32m-> 1119\u001b[1;33m             limit=limit, datatype=datatype)\n\u001b[0m\u001b[0;32m   1120\u001b[0m \u001b[1;33m\u001b[0m\u001b[0m\n\u001b[0;32m   1121\u001b[0m     \u001b[1;32mdef\u001b[0m \u001b[0mget_keras_embedding\u001b[0m\u001b[1;33m(\u001b[0m\u001b[0mself\u001b[0m\u001b[1;33m,\u001b[0m \u001b[0mtrain_embeddings\u001b[0m\u001b[1;33m=\u001b[0m\u001b[1;32mFalse\u001b[0m\u001b[1;33m)\u001b[0m\u001b[1;33m:\u001b[0m\u001b[1;33m\u001b[0m\u001b[0m\n",
      "\u001b[1;32m~\\Anaconda3\\envs\\rnn\\lib\\site-packages\\gensim\\models\\utils_any2vec.py\u001b[0m in \u001b[0;36m_load_word2vec_format\u001b[1;34m(cls, fname, fvocab, binary, encoding, unicode_errors, limit, datatype)\u001b[0m\n\u001b[0;32m    212\u001b[0m                         \u001b[0mword\u001b[0m\u001b[1;33m.\u001b[0m\u001b[0mappend\u001b[0m\u001b[1;33m(\u001b[0m\u001b[0mch\u001b[0m\u001b[1;33m)\u001b[0m\u001b[1;33m\u001b[0m\u001b[0m\n\u001b[0;32m    213\u001b[0m                 \u001b[0mword\u001b[0m \u001b[1;33m=\u001b[0m \u001b[0mutils\u001b[0m\u001b[1;33m.\u001b[0m\u001b[0mto_unicode\u001b[0m\u001b[1;33m(\u001b[0m\u001b[1;34mb''\u001b[0m\u001b[1;33m.\u001b[0m\u001b[0mjoin\u001b[0m\u001b[1;33m(\u001b[0m\u001b[0mword\u001b[0m\u001b[1;33m)\u001b[0m\u001b[1;33m,\u001b[0m \u001b[0mencoding\u001b[0m\u001b[1;33m=\u001b[0m\u001b[0mencoding\u001b[0m\u001b[1;33m,\u001b[0m \u001b[0merrors\u001b[0m\u001b[1;33m=\u001b[0m\u001b[0municode_errors\u001b[0m\u001b[1;33m)\u001b[0m\u001b[1;33m\u001b[0m\u001b[0m\n\u001b[1;32m--> 214\u001b[1;33m                 \u001b[0mweights\u001b[0m \u001b[1;33m=\u001b[0m \u001b[0mfromstring\u001b[0m\u001b[1;33m(\u001b[0m\u001b[0mfin\u001b[0m\u001b[1;33m.\u001b[0m\u001b[0mread\u001b[0m\u001b[1;33m(\u001b[0m\u001b[0mbinary_len\u001b[0m\u001b[1;33m)\u001b[0m\u001b[1;33m,\u001b[0m \u001b[0mdtype\u001b[0m\u001b[1;33m=\u001b[0m\u001b[0mREAL\u001b[0m\u001b[1;33m)\u001b[0m\u001b[1;33m.\u001b[0m\u001b[0mastype\u001b[0m\u001b[1;33m(\u001b[0m\u001b[0mdatatype\u001b[0m\u001b[1;33m)\u001b[0m\u001b[1;33m\u001b[0m\u001b[0m\n\u001b[0m\u001b[0;32m    215\u001b[0m                 \u001b[0madd_word\u001b[0m\u001b[1;33m(\u001b[0m\u001b[0mword\u001b[0m\u001b[1;33m,\u001b[0m \u001b[0mweights\u001b[0m\u001b[1;33m)\u001b[0m\u001b[1;33m\u001b[0m\u001b[0m\n\u001b[0;32m    216\u001b[0m         \u001b[1;32melse\u001b[0m\u001b[1;33m:\u001b[0m\u001b[1;33m\u001b[0m\u001b[0m\n",
      "\u001b[1;31mKeyboardInterrupt\u001b[0m: "
     ]
    }
   ],
   "source": [
    "MIN_DAYS = 1\n",
    "MAX_DAYS = 31\n",
    "STRIDE = 6\n",
    "WINDOW = 5 # i.e. no. of input data points per example\n",
    "all_hist = dict()\n",
    "for n_days in range(MIN_DAYS, MAX_DAYS + 1):\n",
    "    price_x, price_y, headline = preprocessing(n_days_forward=n_days, window=5)\n",
    "    train, test, val = split_train_test_val(price_y)\n",
    "    model = get_overall_model(HEADLINE_SEQ_LEN)\n",
    "    model.compile(loss='mean_squared_error', optimizer='adam', metrics=['mape', 'cosine'])\n",
    "    history = headline_model.fit(x=[headline[train], price_x[train]], y=price_y[train], epochs=N_EPOCHS,\n",
    "                    validation_split=VAL_SPLIT, verbose=1)\n",
    "    all_hist[n_days] = history.history"
   ]
  },
  {
   "cell_type": "code",
   "execution_count": null,
   "metadata": {},
   "outputs": [],
   "source": []
  }
 ],
 "metadata": {
  "kernelspec": {
   "display_name": "Python 3",
   "language": "python",
   "name": "python3"
  },
  "language_info": {
   "codemirror_mode": {
    "name": "ipython",
    "version": 3
   },
   "file_extension": ".py",
   "mimetype": "text/x-python",
   "name": "python",
   "nbconvert_exporter": "python",
   "pygments_lexer": "ipython3",
   "version": "3.6.5"
  }
 },
 "nbformat": 4,
 "nbformat_minor": 1
}
