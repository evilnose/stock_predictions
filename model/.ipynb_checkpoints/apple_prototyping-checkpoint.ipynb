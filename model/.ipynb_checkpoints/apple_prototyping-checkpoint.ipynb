{
 "cells": [
  {
   "cell_type": "code",
   "execution_count": 2,
   "metadata": {},
   "outputs": [
    {
     "name": "stderr",
     "output_type": "stream",
     "text": [
      "Using TensorFlow backend.\n",
      "C:\\Users\\garyg\\Anaconda3\\envs\\rnn\\lib\\site-packages\\gensim\\utils.py:1197: UserWarning: detected Windows; aliasing chunkize to chunkize_serial\n",
      "  warnings.warn(\"detected Windows; aliasing chunkize to chunkize_serial\")\n"
     ]
    }
   ],
   "source": [
    "import os\n",
    "import sys\n",
    "\n",
    "import matplotlib.pyplot as plt\n",
    "\n",
    "from keras import Model, Sequential\n",
    "import numpy as np\n",
    "from keras.layers import LSTM, Lambda, Reshape, Concatenate\n",
    "from keras.layers import Dropout\n",
    "from keras.layers import Dense\n",
    "from keras.layers import Input\n",
    "from keras.models import load_model\n",
    "\n",
    "import pickle\n",
    "\n",
    "# For importing python scripts\n",
    "module_path = os.path.abspath(os.path.join('..'))\n",
    "if module_path not in sys.path:\n",
    "    sys.path.append(module_path)\n",
    "\n",
    "# Import local files here\n",
    "from nlp.stocksnlp import Word2Vec\n",
    "from model.prep_and_train import preprocessing, split_train_val_test\n",
    "from definitions import root\n",
    "\n",
    "np.random.seed(0)"
   ]
  },
  {
   "cell_type": "code",
   "execution_count": 13,
   "metadata": {},
   "outputs": [
    {
     "name": "stdout",
     "output_type": "stream",
     "text": [
      "Loading word2vec model...\n",
      "Done.\n"
     ]
    }
   ],
   "source": [
    "word2vec = Word2Vec()\n",
    "price_x, price_y, headline = preprocessing(n_days_forward=7, wv=word2vec)\n",
    "train, val, test = split_train_val_test(price_y, val_size=0.3)"
   ]
  },
  {
   "cell_type": "code",
   "execution_count": 3,
   "metadata": {},
   "outputs": [
    {
     "name": "stdout",
     "output_type": "stream",
     "text": [
      "Train mean: 53.93052057094878\n",
      "Validation mean: 54.025239960822724\n",
      "Test mean: 53.59130434782608\n"
     ]
    }
   ],
   "source": [
    "# Make sure data is stratified well\n",
    "print(\"Train mean:\", np.mean(price_y[train]))\n",
    "print(\"Validation mean:\", np.mean(price_y[val]))\n",
    "print(\"Test mean:\", np.mean(price_y[test]))"
   ]
  },
  {
   "cell_type": "code",
   "execution_count": 18,
   "metadata": {},
   "outputs": [],
   "source": [
    "# Hyperparameters\n",
    "HIDDEN_SIZE_HEADLINE = 50  # Size of LSTM hidden layer for headline condenser\n",
    "HIDDEN_SIZE_MAIN = 10  # Size of LSTM hidden layer for main\n",
    "N_CONDENSED_OUT = 3  # Output feature dimensions for the condenser\n",
    "N_NUM = 1  # Input feature dimensions of the numerical data (only price for now)\n",
    "WINDOW_TIME_STEPS = 5  # Number of time steps for each training example\n",
    "HEADLINE_SEQ_LEN = 9  # Length dim of each headline (e.g. number of words)\n",
    "N_BATCH = 100  # Training batch size\n",
    "N_EPOCHS = 15\n",
    "VAL_SPLIT = 0.33\n",
    "\n",
    "EMB_SIZE = 300  # Feature size for each embedding. This cannot be modified\n",
    "\n",
    "\n",
    "# File paths\n",
    "MODEL_ARCH_PATH = 'model_architecture.json'\n",
    "MODEL_TRAINED_PATH = 'model_trained.h5'"
   ]
  },
  {
   "cell_type": "code",
   "execution_count": 15,
   "metadata": {},
   "outputs": [],
   "source": [
    "def make_condenser(in_shape, dropout_level=0.3):\n",
    "    # TODO maybe more outputs?\n",
    "    condenser = Sequential()\n",
    "    condenser.add(LSTM(HIDDEN_SIZE_HEADLINE, input_shape=in_shape, activation='relu', name=\"headline_lstm\",\n",
    "                       dropout=dropout_level))\n",
    "    condenser.add(Dense(N_CONDENSED_OUT))\n",
    "    condenser.add(Reshape(target_shape=(1, N_CONDENSED_OUT)))\n",
    "    # condenser.add(Activation('softmax', name=\"headline_activation\"))\n",
    "    return condenser\n",
    "\n",
    "\n",
    "def apply_each(inputs, model):\n",
    "    outs = list()\n",
    "    # Split by the time step dimension\n",
    "    for i in range(inputs.shape[1]):\n",
    "        outs.append(model(inputs[:, i, :, :]))\n",
    "\n",
    "    return Concatenate(axis=1)(outs)"
   ]
  },
  {
   "cell_type": "code",
   "execution_count": 16,
   "metadata": {},
   "outputs": [],
   "source": [
    "def get_normal_model(main_dropout_level=0.2):\n",
    "    price_in = Input(shape=(WINDOW_TIME_STEPS, N_NUM))\n",
    "    # TODO more layers can possibly be added\n",
    "    x = LSTM(units=HIDDEN_SIZE_MAIN, activation=\"relu\")(price_in)  # TODO maybe another LSTM before this?\n",
    "    x = Dropout(main_dropout_level)(x)\n",
    "    outputs = Dense(1)(x)\n",
    "    \n",
    "    model = Model(inputs=price_in, outputs=outputs, name='apple_normal_model')\n",
    "    return model\n",
    "    \n",
    "\n",
    "def get_headline_model(headline_len, main_dropout_level=0.2):\n",
    "    headline_in = Input(shape=(WINDOW_TIME_STEPS, headline_len, EMB_SIZE), name=\"headline_in\")\n",
    "    \n",
    "    # Condenser treats each time step of input as separate examples\n",
    "    headline_condenser = make_condenser(in_shape=(headline_len, EMB_SIZE))\n",
    "\n",
    "    # Apply condenser to each time step of headlines\n",
    "    headline_out = Lambda(apply_each, name='condense_each_headline', arguments={'model': headline_condenser})(headline_in)\n",
    "    price_in = Input(shape=(WINDOW_TIME_STEPS, N_NUM), name=\"price_in\")\n",
    "\n",
    "    # TODO more layers can possibly be added\n",
    "    x = Concatenate()([headline_out, price_in])  # of shape (WINDOW_SIZE, N_CONCATENATED + N_NUM)\n",
    "    x = LSTM(units=HIDDEN_SIZE_MAIN, activation=\"relu\", name=\"main_lstm\")(x)  # TODO maybe another LSTM before this?\n",
    "    x = Dropout(main_dropout_level, name=\"main_dropout\")(x)\n",
    "    outputs = Dense(1, name=\"main_dense\")(x)\n",
    "\n",
    "    return Model(inputs=[headline_in, price_in], outputs=outputs, name='apple_headline_model')"
   ]
  },
  {
   "cell_type": "code",
   "execution_count": 46,
   "metadata": {},
   "outputs": [
    {
     "name": "stdout",
     "output_type": "stream",
     "text": [
      "Train on 2382 samples, validate on 1021 samples\n",
      "Epoch 1/15\n",
      "2382/2382 [==============================] - 5s 2ms/step - loss: 2945.3426 - mean_absolute_percentage_error: 62.7543 - val_loss: 121.1540 - val_mean_absolute_percentage_error: 21.7801\n",
      "Epoch 2/15\n",
      "2382/2382 [==============================] - 2s 926us/step - loss: 510.2948 - mean_absolute_percentage_error: 26.7702 - val_loss: 15.8168 - val_mean_absolute_percentage_error: 9.0926\n",
      "Epoch 3/15\n",
      "2382/2382 [==============================] - 2s 935us/step - loss: 435.1460 - mean_absolute_percentage_error: 22.7132 - val_loss: 38.3224 - val_mean_absolute_percentage_error: 7.7695\n",
      "Epoch 4/15\n",
      "2382/2382 [==============================] - 2s 933us/step - loss: 407.4542 - mean_absolute_percentage_error: 21.7824 - val_loss: 109.6915 - val_mean_absolute_percentage_error: 11.0974\n",
      "Epoch 5/15\n",
      "2382/2382 [==============================] - 2s 920us/step - loss: 478.1621 - mean_absolute_percentage_error: 21.6319 - val_loss: 81.8441 - val_mean_absolute_percentage_error: 8.9977\n",
      "Epoch 6/15\n",
      "2382/2382 [==============================] - 2s 916us/step - loss: 391.2692 - mean_absolute_percentage_error: 20.9771 - val_loss: 27.8165 - val_mean_absolute_percentage_error: 6.0903\n",
      "Epoch 7/15\n",
      "2382/2382 [==============================] - 2s 905us/step - loss: 343.2829 - mean_absolute_percentage_error: 20.4160 - val_loss: 36.4612 - val_mean_absolute_percentage_error: 8.6514\n",
      "Epoch 8/15\n",
      "2382/2382 [==============================] - 2s 886us/step - loss: 328.2874 - mean_absolute_percentage_error: 19.5135 - val_loss: 48.2066 - val_mean_absolute_percentage_error: 7.8738\n",
      "Epoch 9/15\n",
      "2382/2382 [==============================] - 2s 905us/step - loss: 303.2218 - mean_absolute_percentage_error: 19.6951 - val_loss: 36.3482 - val_mean_absolute_percentage_error: 6.7201\n",
      "Epoch 10/15\n",
      "2382/2382 [==============================] - 2s 887us/step - loss: 346.6019 - mean_absolute_percentage_error: 19.7627 - val_loss: 36.9076 - val_mean_absolute_percentage_error: 7.1477\n",
      "Epoch 11/15\n",
      "2382/2382 [==============================] - 2s 892us/step - loss: 317.3419 - mean_absolute_percentage_error: 18.9057 - val_loss: 37.3880 - val_mean_absolute_percentage_error: 6.6215\n",
      "Epoch 12/15\n",
      "2382/2382 [==============================] - 2s 895us/step - loss: 325.2030 - mean_absolute_percentage_error: 19.4485 - val_loss: 23.8745 - val_mean_absolute_percentage_error: 6.1500\n",
      "Epoch 13/15\n",
      "2382/2382 [==============================] - 2s 877us/step - loss: 314.7759 - mean_absolute_percentage_error: 19.0595 - val_loss: 47.4854 - val_mean_absolute_percentage_error: 8.5692\n",
      "Epoch 14/15\n",
      "2382/2382 [==============================] - 2s 887us/step - loss: 332.3796 - mean_absolute_percentage_error: 18.5369 - val_loss: 14.2814 - val_mean_absolute_percentage_error: 4.9745loss: 335.4760 - mean_absolute_percentage_error: 18.\n",
      "Epoch 15/15\n",
      "2382/2382 [==============================] - 2s 865us/step - loss: 325.2671 - mean_absolute_percentage_error: 18.9063 - val_loss: 36.2566 - val_mean_absolute_percentage_error: 6.6967\n"
     ]
    }
   ],
   "source": [
    "headline_model = get_headline_model(HEADLINE_SEQ_LEN)\n",
    "headline_model.compile(loss='mean_squared_error', optimizer='adam', metrics=['mape'])\n",
    "history = headline_model.fit(x=[headline[train], price_x[train]], y=price_y[train], epochs=N_EPOCHS, validation_data=[\n",
    "    [headline[val], price_x[val]], price_y[val]])"
   ]
  },
  {
   "cell_type": "markdown",
   "metadata": {},
   "source": [
    "Here I save the weights. I could not use model.save() to save both the weights and the architecture due to two Keras bugs (or feature). Since I need to split the headline input each time step and apply the same (shared) headline condenser to it, I need to split the input tensor and apply the condenser in a loop. This doesn't work ([#10491](https://github.com/keras-team/keras/issues/10491)). I then resort to using a Lambda function as you can see above, but that raises another error when I try to save the model architecture ([#8343](https://github.com/keras-team/keras/issues/8343)). I'll have to save the weights for now, until either of those issues get resolved.\n",
    "\n",
    "But to be fair the better approach here is to save the weights alone anyways, since the model architecture for each case of input is exactly the same."
   ]
  },
  {
   "cell_type": "code",
   "execution_count": 47,
   "metadata": {},
   "outputs": [],
   "source": [
    "headline_model.save_weights('headline_weights.h5')"
   ]
  },
  {
   "cell_type": "markdown",
   "metadata": {},
   "source": [
    "Validation error is much lower than training error. This phenomenon can possibly be explained by [this](https://keras.io/getting-started/faq/#why-is-the-training-loss-much-higher-than-the-testing-loss)."
   ]
  },
  {
   "cell_type": "code",
   "execution_count": 48,
   "metadata": {},
   "outputs": [
    {
     "data": {
      "image/png": "[encoded data removed]",
      "text/plain": [
       "<Figure size 432x288 with 1 Axes>"
      ]
     },
     "metadata": {},
     "output_type": "display_data"
    }
   ],
   "source": [
    "%matplotlib inline\n",
    "plt.plot(history.history['mean_absolute_percentage_error'])\n",
    "plt.plot(np.asarray(history.history['val_mean_absolute_percentage_error']))\n",
    "plt.title('Model Mean Absolute Percentage Error')\n",
    "plt.ylabel('loss')\n",
    "plt.xlabel('epoch')\n",
    "plt.legend(['train', 'val'], loc='upper right')\n",
    "plt.show()"
   ]
  },
  {
   "cell_type": "markdown",
   "metadata": {},
   "source": [
    "Now we train models with the same architecture over multiple datasets, each differing only in n_days_forward, i.e. how far in the future the price_y value is compared to the last x value in each example. As an example, n_days_forward = 1 implies that the prediction date is the next day of the last input value date."
   ]
  },
  {
   "cell_type": "code",
   "execution_count": 9,
   "metadata": {},
   "outputs": [],
   "source": [
    "# Hyperparameters again\n",
    "MIN_DAYS = 1\n",
    "MAX_DAYS = 31\n",
    "STRIDE = 6\n",
    "WINDOW = 5  # i.e. no. of input data points per example\n",
    "N_EPOCHS_MULTI = 10  # Fewer epochs since the graph above indicates that 15 is too many. (Also saves time)\n",
    "N_DAYS_LIST = list(range(MIN_DAYS, MAX_DAYS + 1, STRIDE))"
   ]
  },
  {
   "cell_type": "code",
   "execution_count": 19,
   "metadata": {},
   "outputs": [
    {
     "name": "stdout",
     "output_type": "stream",
     "text": [
      "About to train headline models.\n",
      "Training model for n_days_forward = 1...Trained. Saved.\n",
      "Training model for n_days_forward = 7...Trained. Saved.\n",
      "Training model for n_days_forward = 13...Trained. Saved.\n",
      "Training model for n_days_forward = 19...Trained. Saved.\n",
      "Training model for n_days_forward = 25...Trained. Saved.\n",
      "Training model for n_days_forward = 31...Trained. Saved.\n",
      "All models trained.\n"
     ]
    }
   ],
   "source": [
    "headline_hist = dict()\n",
    "print(\"About to train headline models.\")\n",
    "for n_days in N_DAYS_LIST:\n",
    "    price_x, price_y, headline = preprocessing(n_days_forward=n_days, window=5, wv=word2vec)\n",
    "    train, val, test = split_train_val_test(price_y)\n",
    "    model = get_headline_model(HEADLINE_SEQ_LEN)\n",
    "    model.compile(loss='mean_squared_error', optimizer='adam', metrics=['mape', 'cosine'])\n",
    "    \n",
    "    print(\"Training model for n_days_forward = {}...\".format(n_days), end='')\n",
    "    history = model.fit(x=[headline[train], price_x[train]], y=price_y[train], epochs=N_EPOCHS_MULTI,\n",
    "                    validation_data=([headline[val], price_x[val]], price_y[val]), verbose=0)\n",
    "    print(\"Trained. \".format(n_days), end='')\n",
    "    headline_hist[n_days] = history.history\n",
    "    model.save_weights('saved_weights/headline_weights_{}.h5'.format(n_days))\n",
    "    print(\"Saved.\")\n",
    "print(\"All models trained.\")"
   ]
  },
  {
   "cell_type": "code",
   "execution_count": 20,
   "metadata": {},
   "outputs": [],
   "source": [
    "with open('saved_histories/headline_histories', 'wb') as f:\n",
    "    pickle.dump(headline_hist, f)"
   ]
  },
  {
   "cell_type": "code",
   "execution_count": 21,
   "metadata": {},
   "outputs": [
    {
     "name": "stdout",
     "output_type": "stream",
     "text": [
      "About to train normal (without headline) models.\n",
      "Training model for n_days_forward = 1...Trained. Saved.\n",
      "Training model for n_days_forward = 7...Trained. Saved.\n",
      "Training model for n_days_forward = 13...Trained. Saved.\n",
      "Training model for n_days_forward = 19...Trained. Saved.\n",
      "Training model for n_days_forward = 25...Trained. Saved.\n",
      "Training model for n_days_forward = 31...Trained. Saved.\n",
      "All models trained.\n"
     ]
    }
   ],
   "source": [
    "normal_hist = dict()\n",
    "print(\"About to train normal (without headline) models.\")\n",
    "for n_days in N_DAYS_LIST:\n",
    "    price_x, price_y, _ = preprocessing(n_days_forward=n_days, window=5, wv=word2vec)\n",
    "    train, val, test = split_train_val_test(price_y)\n",
    "    model = get_normal_model()\n",
    "    model.compile(loss='mean_squared_error', optimizer='adam', metrics=['mape', 'cosine'])\n",
    "    \n",
    "    print(\"Training model for n_days_forward = {}...\".format(n_days), end='')\n",
    "    history = model.fit(x=price_x[train], y=price_y[train], epochs=N_EPOCHS_MULTI,\n",
    "                    validation_data=(price_x[val], price_y[val]), verbose=0)\n",
    "    print(\"Trained. \".format(n_days), end='')\n",
    "    normal_hist[n_days] = history.history\n",
    "    model.save_weights('saved_weights/normal_weights_{}.h5'.format(n_days))\n",
    "    print(\"Saved.\")\n",
    "print(\"All models trained.\")"
   ]
  },
  {
   "cell_type": "code",
   "execution_count": 22,
   "metadata": {},
   "outputs": [],
   "source": [
    "with open('saved_histories/normal_histories', 'wb') as f:\n",
    "    pickle.dump(normal_hist, f)"
   ]
  },
  {
   "cell_type": "markdown",
   "metadata": {},
   "source": [
    "## Checkpoint\n",
    "Start here next time."
   ]
  },
  {
   "cell_type": "code",
   "execution_count": 23,
   "metadata": {},
   "outputs": [],
   "source": [
    "with open('saved_histories/headline_histories', 'rb') as f:\n",
    "    headline_hist = pickle.load(f)\n",
    "    \n",
    "with open('saved_histories/normal_histories', 'rb') as f:\n",
    "    normal_hist = pickle.load(f)"
   ]
  },
  {
   "cell_type": "code",
   "execution_count": 35,
   "metadata": {},
   "outputs": [
    {
     "data": {
      "image/png": "[encoded data removed]",
      "text/plain": [
       "<Figure size 432x288 with 2 Axes>"
      ]
     },
     "metadata": {},
     "output_type": "display_data"
    }
   ],
   "source": [
    "def plot_hist(hist, key):\n",
    "    plt.axis([0, 9, 0, 1000])\n",
    "    for n_days in hist.keys():\n",
    "        plt.xlabel('epochs')\n",
    "        plt.ylabel(key)\n",
    "        plt.plot(hist[n_days][key])\n",
    "    plt.legend(hist.keys(), loc='upper right')\n",
    "    \n",
    "\n",
    "plt.subplot(121)\n",
    "plt.title('Headline Model CV Loss Comparison (n_days_forward)')\n",
    "plot_hist(headline_hist, 'val_loss')\n",
    "\n",
    "plt.subplot(122)\n",
    "plt.title('Normal Model CV Loss Comparison (n_days_forward)')\n",
    "plot_hist(normal_hist, 'val_loss')\n",
    "\n",
    "plt.subplots_adjust(left=1, bottom=None, right=3, top=None, wspace=None, hspace=None)\n",
    "plt.show()"
   ]
  },
  {
   "cell_type": "markdown",
   "metadata": {},
   "source": [
    "Can't really see much from these graphs. I need to make a bar graph to compare the two models closely."
   ]
  },
  {
   "cell_type": "code",
   "execution_count": 46,
   "metadata": {},
   "outputs": [
    {
     "name": "stdout",
     "output_type": "stream",
     "text": [
      "Compiling model...\n",
      "Evaluating model for n_days_forward = 1\n",
      "846/846 [==============================] - 4s 5ms/step\n",
      "Evaluating model for n_days_forward = 7\n",
      "846/846 [==============================] - 1s 1ms/step\n",
      "Evaluating model for n_days_forward = 13\n",
      "846/846 [==============================] - 1s 1ms/step\n",
      "Evaluating model for n_days_forward = 19\n",
      "846/846 [==============================] - 1s 1ms/step\n",
      "Evaluating model for n_days_forward = 25\n",
      "846/846 [==============================] - 1s 1ms/step\n",
      "Evaluating model for n_days_forward = 31\n",
      "846/846 [==============================] - 1s 1ms/step\n",
      "Compiling model...\n",
      "Evaluating model for n_days_forward = 1\n",
      "846/846 [==============================] - 2s 3ms/step\n",
      "Evaluating model for n_days_forward = 7\n",
      "846/846 [==============================] - 0s 49us/step\n",
      "Evaluating model for n_days_forward = 13\n",
      "846/846 [==============================] - 0s 44us/step\n",
      "Evaluating model for n_days_forward = 19\n",
      "846/846 [==============================] - 0s 46us/step\n",
      "Evaluating model for n_days_forward = 25\n",
      "846/846 [==============================] - 0s 48us/step\n",
      "Evaluating model for n_days_forward = 31\n",
      "846/846 [==============================] - 0s 56us/step\n"
     ]
    }
   ],
   "source": [
    "def evaluate(model, n_days_list, weights_path, x, y):\n",
    "    print(\"Compiling model...\")\n",
    "    model.compile(loss='mean_squared_error', optimizer='adam')\n",
    "    loss_dict = dict()\n",
    "    for n_days in n_days_list:\n",
    "        print(\"Evaluating model for n_days_forward =\", n_days)\n",
    "        model.load_weights(weights_path.format(n_days))\n",
    "        loss_dict[n_days] = model.evaluate(x=x, y=y)\n",
    "    return loss_dict\n",
    "\n",
    "\n",
    "hl_model = get_headline_model(HEADLINE_SEQ_LEN)\n",
    "hl_loss = evaluate(hl_model, N_DAYS_LIST, 'saved_weights/headline_weights_{}.h5', [headline[test], price_x[test]], price_y[test])\n",
    "nm_model = get_normal_model()\n",
    "nm_loss = evaluate(nm_model, N_DAYS_LIST, 'saved_weights/normal_weights_{}.h5', price_x[test], price_y[test])\n",
    "\n",
    "with open('saved_histories/headline_test', 'wb') as f:\n",
    "    pickle.dump(hl_loss, f)\n",
    "    \n",
    "with open('saved_histories/normal_test', 'wb') as f:\n",
    "    pickle.dump(nm_loss, f)"
   ]
  },
  {
   "cell_type": "code",
   "execution_count": 47,
   "metadata": {},
   "outputs": [],
   "source": [
    "if not hl_loss:\n",
    "    with open('saved_histories/headline_test', 'rb') as f:\n",
    "        hl_loss = pickle.load(f)\n",
    "        \n",
    "if not nm_loss:\n",
    "    with open('saved_histories/normal_test', 'rb') as f:\n",
    "        nm_loss = pickle.load(f)"
   ]
  },
  {
   "cell_type": "code",
   "execution_count": 80,
   "metadata": {},
   "outputs": [
    {
     "data": {
      "image/png": "[encoded data removed]",
      "text/plain": [
       "<Figure size 432x288 with 1 Axes>"
      ]
     },
     "metadata": {},
     "output_type": "display_data"
    }
   ],
   "source": [
    "ix = np.asarray(N_DAYS_LIST)\n",
    "hl_list = [hl_loss[k] for k in ix]\n",
    "nm_list = [nm_loss[k] for k in ix]\n",
    "width = 1.5\n",
    "\n",
    "fig, ax = plt.subplots()\n",
    "hl_bar = ax.bar(ix, hl_list, width)\n",
    "nm_bar = ax.bar(ix + width, nm_list, width)\n",
    "\n",
    "ax.set_title('Model Comparison over n_days_forward')\n",
    "ax.set_xlabel('n_days_forward')\n",
    "ax.set_ylabel('test loss')\n",
    "ax.legend((hl_bar[0], nm_bar[0]), ('Headline Model', 'Normal Model'))\n",
    "\n",
    "ax.set_xticks(ix)\n",
    "\n",
    "plt.show()"
   ]
  }
 ],
 "metadata": {
  "kernelspec": {
   "display_name": "Python 3",
   "language": "python",
   "name": "python3"
  },
  "language_info": {
   "codemirror_mode": {
    "name": "ipython",
    "version": 3
   },
   "file_extension": ".py",
   "mimetype": "text/x-python",
   "name": "python",
   "nbconvert_exporter": "python",
   "pygments_lexer": "ipython3",
   "version": "3.6.5"
  }
 },
 "nbformat": 4,
 "nbformat_minor": 1
}
