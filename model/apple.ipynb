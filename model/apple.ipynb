{
 "cells": [
  {
   "cell_type": "code",
   "execution_count": 10,
   "metadata": {},
   "outputs": [],
   "source": [
    "import os\n",
    "import sys\n",
    "\n",
    "import matplotlib.pyplot as plt\n",
    "\n",
    "from keras import Model, Sequential\n",
    "import numpy as np\n",
    "from keras.layers import LSTM, Lambda, Reshape, Concatenate\n",
    "from keras.layers import Dropout\n",
    "from keras.layers import Dense\n",
    "from keras.layers import Input\n",
    "\n",
    "import pickle\n",
    "\n",
    "# For importing python scripts\n",
    "module_path = os.path.abspath(os.path.join('..'))\n",
    "if module_path not in sys.path:\n",
    "    sys.path.append(module_path)\n",
    "\n",
    "# Import local files here\n",
    "from nlp.stocksnlp import Word2Vec\n",
    "from model.prep_and_train import preprocessing, split_train_test_val\n",
    "from definitions import root"
   ]
  },
  {
   "cell_type": "code",
   "execution_count": 3,
   "metadata": {},
   "outputs": [],
   "source": [
    "word2vec = Word2Vec()\n",
    "price_x, price_y, headline = preprocessing(n_days_forward=7, wv=word2vec)\n",
    "train, test, val = split_train_test_val(price_y)"
   ]
  },
  {
   "cell_type": "code",
   "execution_count": 4,
   "metadata": {},
   "outputs": [
    {
     "name": "stdout",
     "output_type": "stream",
     "text": [
      "Train mean: 53.873115029387066\n",
      "Test mean: 53.93124387855045\n",
      "Validation mean: 53.864759106933015\n"
     ]
    }
   ],
   "source": [
    "# Make sure data is stratified well\n",
    "print(\"Train mean:\", np.mean(price_y[train]))\n",
    "print(\"Test mean:\", np.mean(price_y[test]))\n",
    "print(\"Validation mean:\", np.mean(price_y[val]))"
   ]
  },
  {
   "cell_type": "code",
   "execution_count": 5,
   "metadata": {},
   "outputs": [],
   "source": [
    "# Hyperparameters\n",
    "HIDDEN_SIZE_HEADLINE = 50  # Size of LSTM hidden layer for headline condenser\n",
    "HIDDEN_SIZE_MAIN = 10  # Size of LSTM hidden layer for main\n",
    "N_CONDENSED_OUT = 3  # Output feature dimensions for the condenser\n",
    "N_NUM = 1  # Input feature dimensions of the numerical data (only price for now)\n",
    "WINDOW_TIME_STEPS = 5  # Number of time steps for each training example\n",
    "HEADLINE_SEQ_LEN = 9  # Length dim of each headline (e.g. number of words)\n",
    "N_BATCH = 100  # Training batch size\n",
    "N_EPOCHS = 15\n",
    "VAL_SPLIT = 0.33\n",
    "\n",
    "EMB_SIZE = 300  # Feature size for each embedding. This cannot be modified\n",
    "\n",
    "\n",
    "# File paths\n",
    "MODEL_ARCH_PATH = 'model_architecture.json'\n",
    "MODEL_TRAINED_PATH = 'model_trained.h5'"
   ]
  },
  {
   "cell_type": "code",
   "execution_count": 6,
   "metadata": {},
   "outputs": [],
   "source": [
    "headline_condenser_g = None\n",
    "\n",
    "\n",
    "def make_condenser(in_shape, dropout_level=0.3):\n",
    "    # TODO maybe more outputs?\n",
    "    condenser = Sequential()\n",
    "    condenser.add(LSTM(HIDDEN_SIZE_HEADLINE, input_shape=in_shape, activation='relu', name=\"headline_lstm\",\n",
    "                       dropout=dropout_level))\n",
    "    condenser.add(Dense(N_CONDENSED_OUT))\n",
    "    condenser.add(Reshape(target_shape=(1, N_CONDENSED_OUT)))\n",
    "    # condenser.add(Activation('softmax', name=\"headline_activation\"))\n",
    "    return condenser\n",
    "\n",
    "\n",
    "def apply_each(inputs):\n",
    "    global headline_condenser_g\n",
    "    outs = list()\n",
    "    # Split by the time step dimension\n",
    "    for i in range(inputs.shape[1]):\n",
    "        outs.append(headline_condenser_g(inputs[:, i, :, :]))\n",
    "\n",
    "    return Concatenate(axis=1)(outs)"
   ]
  },
  {
   "cell_type": "code",
   "execution_count": 7,
   "metadata": {},
   "outputs": [],
   "source": [
    "def get_overall_model(headline_len, main_dropout_level=0.4):\n",
    "    global headline_condenser_g\n",
    "    headline_in = Input(shape=(WINDOW_TIME_STEPS, headline_len, EMB_SIZE), name=\"headline_in\")\n",
    "    # Condenser treats each time step of input as separate examples\n",
    "    headline_condenser_g = make_condenser(in_shape=(headline_len, EMB_SIZE))\n",
    "\n",
    "    # Apply condenser to each time step of headlines\n",
    "    headline_out = Lambda(apply_each, name=\"condense_each_headline\")(headline_in)\n",
    "    # headline_out = TimeDistributed(headline_condenser)(headline_in)\n",
    "    price_in = Input(shape=(WINDOW_TIME_STEPS, N_NUM), name=\"price_in\")\n",
    "\n",
    "    # TODO more layers can possibly be added\n",
    "    x = Concatenate()([headline_out, price_in])  # of shape (WINDOW_SIZE, N_CONCATENATED + N_NUM)\n",
    "    x = LSTM(units=HIDDEN_SIZE_MAIN, activation=\"relu\", name=\"main_lstm\")(x)  # TODO maybe another LSTM before this?\n",
    "    x = Dropout(main_dropout_level, name=\"main_dropout\")(x)\n",
    "    outputs = Dense(1, name=\"main_dense\")(x)\n",
    "\n",
    "    model = Model(inputs=[headline_in, price_in], outputs=outputs, name=\"apple_model\")\n",
    "    return model"
   ]
  },
  {
   "cell_type": "code",
   "execution_count": 8,
   "metadata": {},
   "outputs": [
    {
     "name": "stdout",
     "output_type": "stream",
     "text": [
      "Train on 1595 samples, validate on 787 samples\n",
      "Epoch 1/15\n",
      "1595/1595 [==============================] - 6s 4ms/step - loss: 5182.1434 - mean_absolute_percentage_error: 98.6281 - cosine_proximity: -0.6915 - val_loss: 5089.6127 - val_mean_absolute_percentage_error: 95.6425 - val_cosine_proximity: -1.0000\n",
      "Epoch 2/15\n",
      "1595/1595 [==============================] - 1s 866us/step - loss: 4942.8172 - mean_absolute_percentage_error: 88.2596 - cosine_proximity: -0.9549 - val_loss: 4770.4458 - val_mean_absolute_percentage_error: 70.1290 - val_cosine_proximity: -1.0000\n",
      "Epoch 3/15\n",
      "1595/1595 [==============================] - 1s 819us/step - loss: 3444.6677 - mean_absolute_percentage_error: 65.3774 - cosine_proximity: -0.9950 - val_loss: 1415.7618 - val_mean_absolute_percentage_error: 42.8299 - val_cosine_proximity: -1.0000\n",
      "Epoch 4/15\n",
      "1595/1595 [==============================] - 1s 872us/step - loss: 1795.7366 - mean_absolute_percentage_error: 43.9331 - cosine_proximity: -1.0000 - val_loss: 512.4444 - val_mean_absolute_percentage_error: 29.5473 - val_cosine_proximity: -1.0000\n",
      "Epoch 5/15\n",
      "1595/1595 [==============================] - 1s 796us/step - loss: 1512.7735 - mean_absolute_percentage_error: 43.0302 - cosine_proximity: -1.0000 - val_loss: 434.3080 - val_mean_absolute_percentage_error: 26.1245 - val_cosine_proximity: -1.0000\n",
      "Epoch 6/15\n",
      "1595/1595 [==============================] - 1s 834us/step - loss: 1204.3942 - mean_absolute_percentage_error: 40.6922 - cosine_proximity: -1.0000 - val_loss: 114.5075 - val_mean_absolute_percentage_error: 25.2885 - val_cosine_proximity: -1.0000\n",
      "Epoch 7/15\n",
      "1595/1595 [==============================] - 1s 823us/step - loss: 1034.1053 - mean_absolute_percentage_error: 37.3465 - cosine_proximity: -1.0000 - val_loss: 250.9506 - val_mean_absolute_percentage_error: 25.4206 - val_cosine_proximity: -1.0000\n",
      "Epoch 8/15\n",
      "1595/1595 [==============================] - 1s 821us/step - loss: 992.3127 - mean_absolute_percentage_error: 35.5820 - cosine_proximity: -1.0000 - val_loss: 94.6106 - val_mean_absolute_percentage_error: 17.1868 - val_cosine_proximity: -1.0000\n",
      "Epoch 9/15\n",
      "1595/1595 [==============================] - 1s 789us/step - loss: 956.4533 - mean_absolute_percentage_error: 33.4742 - cosine_proximity: -1.0000 - val_loss: 294.9376 - val_mean_absolute_percentage_error: 24.3381 - val_cosine_proximity: -1.0000\n",
      "Epoch 10/15\n",
      "1595/1595 [==============================] - 1s 783us/step - loss: 1019.3289 - mean_absolute_percentage_error: 34.7183 - cosine_proximity: -1.0000 - val_loss: 156.1305 - val_mean_absolute_percentage_error: 16.3895 - val_cosine_proximity: -1.0000\n",
      "Epoch 11/15\n",
      "1595/1595 [==============================] - 1s 784us/step - loss: 957.1284 - mean_absolute_percentage_error: 32.2717 - cosine_proximity: -1.0000 - val_loss: 217.4091 - val_mean_absolute_percentage_error: 19.4168 - val_cosine_proximity: -1.0000\n",
      "Epoch 12/15\n",
      "1595/1595 [==============================] - 1s 794us/step - loss: 1048.9603 - mean_absolute_percentage_error: 33.0275 - cosine_proximity: -1.0000 - val_loss: 206.1789 - val_mean_absolute_percentage_error: 19.4953 - val_cosine_proximity: -1.0000\n",
      "Epoch 13/15\n",
      "1595/1595 [==============================] - 1s 799us/step - loss: 948.5677 - mean_absolute_percentage_error: 33.5452 - cosine_proximity: -1.0000 - val_loss: 198.9471 - val_mean_absolute_percentage_error: 17.8168 - val_cosine_proximity: -1.0000\n",
      "Epoch 14/15\n",
      "1595/1595 [==============================] - 1s 881us/step - loss: 1072.6426 - mean_absolute_percentage_error: 33.2790 - cosine_proximity: -1.0000 - val_loss: 171.5687 - val_mean_absolute_percentage_error: 16.7367 - val_cosine_proximity: -1.0000\n",
      "Epoch 15/15\n",
      "1595/1595 [==============================] - 1s 778us/step - loss: 1042.0039 - mean_absolute_percentage_error: 33.6669 - cosine_proximity: -1.0000 - val_loss: 209.1915 - val_mean_absolute_percentage_error: 18.7724 - val_cosine_proximity: -1.0000\n"
     ]
    }
   ],
   "source": [
    "headline_model = get_overall_model(HEADLINE_SEQ_LEN)\n",
    "headline_model.compile(loss='mean_squared_error', optimizer='adam', metrics=['mape', 'cosine'])\n",
    "history = headline_model.fit(x=[headline[train], price_x[train]], y=price_y[train], epochs=N_EPOCHS,\n",
    "                    validation_split=VAL_SPLIT)"
   ]
  },
  {
   "cell_type": "code",
   "execution_count": 8,
   "metadata": {},
   "outputs": [
    {
     "data": {
      "image/png": "[encoded data removed]",
      "text/plain": [
       "<Figure size 432x288 with 1 Axes>"
      ]
     },
     "metadata": {},
     "output_type": "display_data"
    }
   ],
   "source": [
    "%matplotlib inline\n",
    "train_to_val = 7 / 3\n",
    "plt.plot(history.history['loss'])\n",
    "plt.plot(np.asarray(history.history['val_loss']) * train_to_val)\n",
    "plt.title('model loss')\n",
    "plt.ylabel('loss')\n",
    "plt.xlabel('epoch')\n",
    "plt.legend(['train', 'val'], loc='upper right')\n",
    "plt.show()"
   ]
  },
  {
   "cell_type": "markdown",
   "metadata": {},
   "source": [
    "Now we train models with the same architecture over multiple datasets, each differing only in n_days_forward, i.e. how far in the future the price_y value is compared to the last x value in each example. As an example, n_days_forward = 1 implies that the prediction date is the next day of the last input value date."
   ]
  },
  {
   "cell_type": "code",
   "execution_count": 48,
   "metadata": {},
   "outputs": [
    {
     "name": "stdout",
     "output_type": "stream",
     "text": [
      "Training model for n_days_forward = 1 ...\n",
      "Model trained.\n",
      "Training model for n_days_forward = 7 ...\n",
      "Model trained.\n",
      "Training model for n_days_forward = 13 ...\n",
      "Model trained.\n",
      "Training model for n_days_forward = 19 ...\n",
      "Model trained.\n",
      "Training model for n_days_forward = 25 ...\n",
      "Model trained.\n",
      "Training model for n_days_forward = 31 ...\n",
      "Model trained.\n"
     ]
    }
   ],
   "source": [
    "MIN_DAYS = 1\n",
    "MAX_DAYS = 31\n",
    "STRIDE = 6\n",
    "WINDOW = 5  # i.e. no. of input data points per example\n",
    "N_EPOCHS_MULTI = 10  # Fewer epochs since the graph above indicates that 15 is too many. (Also saves time)\n",
    "all_hist = dict()\n",
    "for n_days in range(MIN_DAYS, MAX_DAYS + 1, STRIDE):\n",
    "    price_x, price_y, headline = preprocessing(n_days_forward=n_days, window=5, wv=word2vec)\n",
    "    train, test, val = split_train_test_val(price_y)\n",
    "    model = get_overall_model(HEADLINE_SEQ_LEN)\n",
    "    model.compile(loss='mean_squared_error', optimizer='adam', metrics=['mape', 'cosine'])\n",
    "    \n",
    "    print(\"Training model for n_days_forward = {}...\".format(n_days), end='')\n",
    "    history = headline_model.fit(x=[headline[train], price_x[train]], y=price_y[train], epochs=N_EPOCHS_MULTI,\n",
    "                    validation_split=VAL_SPLIT, verbose=0)\n",
    "    print(\"Done.\".format(n_days))\n",
    "    all_hist[n_days] = history.history\n",
    "    # Save the model if you wish\n",
    "print(\"All models trained.\")"
   ]
  },
  {
   "cell_type": "code",
   "execution_count": 49,
   "metadata": {},
   "outputs": [],
   "source": [
    "with open(root('all_history'), 'wb') as f:\n",
    "    pickle.dump(all_hist, f)"
   ]
  },
  {
   "cell_type": "markdown",
   "metadata": {},
   "source": [
    "## Checkpoint\n",
    "Start here next time."
   ]
  },
  {
   "cell_type": "code",
   "execution_count": 53,
   "metadata": {},
   "outputs": [],
   "source": [
    "with open(root('all_history'), 'rb') as f:\n",
    "    all_hist = pickle.load(f)"
   ]
  },
  {
   "cell_type": "code",
   "execution_count": null,
   "metadata": {},
   "outputs": [],
   "source": []
  }
 ],
 "metadata": {
  "kernelspec": {
   "display_name": "Python 3",
   "language": "python",
   "name": "python3"
  },
  "language_info": {
   "codemirror_mode": {
    "name": "ipython",
    "version": 3
   },
   "file_extension": ".py",
   "mimetype": "text/x-python",
   "name": "python",
   "nbconvert_exporter": "python",
   "pygments_lexer": "ipython3",
   "version": "3.6.5"
  }
 },
 "nbformat": 4,
 "nbformat_minor": 1
}
